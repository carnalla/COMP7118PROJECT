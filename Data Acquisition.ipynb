{
 "cells": [
  {
   "cell_type": "markdown",
   "metadata": {},
   "source": [
    "# DATA ACQUISITION"
   ]
  },
  {
   "cell_type": "markdown",
   "metadata": {},
   "source": [
    "- First import relevant packages for data acquisition and processing. \n",
    "- Create local variables for URL of injury database website as well as page ranges for data acquisition.\n",
    "- Generate a dataframe of ALL injury records in range, and remove 'Acquired' column (for players returning to active roster)."
   ]
  },
  {
   "cell_type": "code",
   "execution_count": null,
   "metadata": {},
   "outputs": [],
   "source": [
    "import basketball_reference_scraper\n",
    "from basketball_reference_scraper.teams import get_roster, get_team_stats, get_opp_stats, get_roster_stats, get_team_misc\n",
    "from basketball_reference_scraper.seasons import get_schedule, get_standings\n",
    "from basketball_reference_scraper.players import get_stats, get_game_logs, get_player_headshot\n",
    "from datetime import datetime as dt\n",
    "from datetime import timedelta as td\n",
    "import matplotlib.pyplot as plt\n",
    "import pandas as pd\n",
    "import random as rd\n",
    "import calendar\n",
    "pd.set_option('display.max_rows', None)\n",
    "pd.options.display.max_colwidth = 150\n",
    "start = dt.now()\n",
    "\n",
    "import warnings\n",
    "warnings.simplefilter(action = 'ignore', category = FutureWarning)"
   ]
  },
  {
   "cell_type": "code",
   "execution_count": null,
   "metadata": {},
   "outputs": [],
   "source": [
    "url = (\"https://www.prosportstransactions.com/basketball/Search/SearchResults.php?Player=&Team=&BeginDate=&EndDate=&ILChkBx=yes&Submit=Search&start=\")\n",
    "pnumstart = 3650\n",
    "pnumend = 33050\n",
    "\n",
    "iDB = pd.DataFrame()\n",
    "\n",
    "for i in range(pnumstart, pnumend + 25, 25):\n",
    "    \n",
    "    pgTbl = pd.read_html(url + str(i))\n",
    "    injData = pgTbl[0]\n",
    "    injData.columns = injData.iloc[0]\n",
    "    injData = injData.iloc[1:, :]\n",
    "    iDB = iDB.append(injData)\n",
    "    \n",
    "iDB = iDB[~iDB['Notes'].str.contains('activated from IL')]\n",
    "iDB = iDB[~iDB['Notes'].str.contains('activated')]\n",
    "iDB['Relinquished'] = iDB['Relinquished'].str.replace('• ', '')\n",
    "iDB = iDB[['Date', 'Team', 'Relinquished', 'Notes']]\n",
    "iDB = iDB.reset_index(drop = True)"
   ]
  },
  {
   "cell_type": "code",
   "execution_count": null,
   "metadata": {},
   "outputs": [],
   "source": [
    "iDB.to_csv('InjuryDatabaseRaw99-21_NoAcquired.csv', index = False)"
   ]
  },
  {
   "cell_type": "code",
   "execution_count": null,
   "metadata": {},
   "outputs": [],
   "source": [
    "iDB = pd.read_csv('InjuryDatabaseRaw99-21_NoAcquired.csv')"
   ]
  },
  {
   "cell_type": "markdown",
   "metadata": {},
   "source": [
    "# DATA ORGANIZATION AND CLEANING"
   ]
  },
  {
   "cell_type": "markdown",
   "metadata": {},
   "source": [
    "- Create variables related to search terms for injuries of different categories (e.g., UE = Upper Extremity, etc.)\n",
    "- Categorize dataframe by  injury types, and cleanly organize those of unspecified nature (e.g., 'Placed on IL' is not useful). \n",
    "- Generate a table with relative frequency of injury types to externally validate against published sources. "
   ]
  },
  {
   "cell_type": "code",
   "execution_count": null,
   "metadata": {},
   "outputs": [],
   "source": [
    "UEinjuries = 'arm|shoulder|elbow|wrist|hand|hand/finger|finger|fingers|chest|thumb|rotator cuff|deltoid|tricep|triceps|bicep|biceps|pectoral|pectoralis'\n",
    "LEinjuries = 'leg|hip|knee|arch|knees|shin|infrapatella|kneecap|patella|patellar|tibia|tibial|fibula|ankle|ankle/tibia|shin/tibia|knee/quadricep|foot|feet|instep|heel|toe|toes|thigh|hip flexor|gastrocnemius|buttock|abductor|adductor|groin|hamstring|quadricep|quadriceps|ACL|calf|achilles|Achilles|plantar|peroneal synovitis'\n",
    "TRinjuries = 'abdominal|sternum|clavicle|oblique|rib|ribs|ribcage|disc|back|lower back|neck|cervical|cervican|spine|spinal|hernia|pelvis|tailbone'\n",
    "HEinjuries = 'head injury|bruised head|dizziness|concussion|facial|jaw|orbital|dental|eye|nose|tooth|teeth|root canal|cheek|cheekbone'\n",
    "SYinjuries = 'COVID-19|frontal|blood clots|blood clot|medicine|body|throat|sinus|lung|lungs|bilateral synovitis|virus|viral|illness|flu/illness|food poisoning|bronchitis|aorta|flu|flu-like|health and safety|rest|nerve|migraine|migraines|headache|headaches|stomach|gastroentritis|gastroenteritis|general|respiratory|tonsilitis|appendectomy|appendix|testicle|testicular|bladder|mononucleosis|peritonsillar|pneumonia|heart|heartbeat|upper respiratory|chicken pox'\n",
    "OTHRissues = 'death|funeral|waived|legal|suspension|shoot around|arrest|drug|trade|visa|birth|family'"
   ]
  },
  {
   "cell_type": "code",
   "execution_count": null,
   "metadata": {
    "scrolled": false
   },
   "outputs": [],
   "source": [
    "injTypes = [UEinjuries, LEinjuries, TRinjuries, HEinjuries, SYinjuries, OTHRissues]\n",
    "injCateg = ['Upper Extremity Injuries', 'Lower Extremity Injuries', 'Trunk Injuries', 'Head Injuries', 'Non-Orthopedic (Illness)', 'Off-Court Issues']\n",
    "injTBL = pd.DataFrame()\n",
    "count = 0\n",
    "\n",
    "for j in injTypes:\n",
    "    number = iDB['Notes'].str.contains(j).sum()\n",
    "    row = [[injCateg[count], number]]\n",
    "    injTBL = injTBL.append(row)\n",
    "    count += 1\n",
    "\n",
    "add = [['Unspecified', len(iDB[iDB['Notes'] == 'placed on IL']) + \n",
    "        len(iDB[iDB['Notes'] == 'placed on IL (date approximate)']) + \n",
    "        len(iDB[iDB['Notes'] == 'placed on IL (date unsure)']) +\n",
    "        len(iDB[iDB['Notes'] == 'placed on IL (out for season)']) +\n",
    "        len(iDB[iDB['Notes'] == 'placed on IL (Fox)']) + \n",
    "        len(iDB[iDB['Notes'] == 'placed on IL (~CBC)']) +\n",
    "        len(iDB[iDB['Notes'] == 'placed on IL (not CBC)']) +\n",
    "        len(iDB[iDB['Notes'] == 'placed on IL (F)']) + \n",
    "        len(iDB[iDB['Notes'] == 'placed on IL (P)']) + \n",
    "        len(iDB[iDB['Notes'] == 'placed on IL (P) (out for season)']) + \n",
    "        len(iDB[iDB['Notes'] == 'placed on IL (F) (out for season)'])]]\n",
    "\n",
    "injTBL = injTBL.append(add)\n",
    "\n",
    "injTBL.columns = ['Category', 'Frequency']\n",
    "injTBL = injTBL.sort_values(by=['Frequency'], ascending = False)\n",
    "injTBL.insert(len(injTBL.columns), 'Percentage', round((injTBL['Frequency']/len(iDB))*100,4))\n",
    "print(\"Currently accounting for \", round((injTBL['Frequency'].sum()/len(iDB))*100, 2), \"% of Injuries\")\n",
    "injTBL.reset_index(drop = True)"
   ]
  },
  {
   "cell_type": "markdown",
   "metadata": {},
   "source": [
    "# DERIVE SPECIFIC PROJECT-FOCUSED RECORDS FROM DATABASE"
   ]
  },
  {
   "cell_type": "markdown",
   "metadata": {},
   "source": [
    "- Revise injury database to include only those records having terms related to 'chronic' injury types. \n",
    "- Use basketball-reference-scraper API functions to determine start & end dates of regular seasons for all dates in database.\n",
    "- Eliminate those injury records reported outside the temporal boundaries of regular seasons.\n",
    "- Remove players with suffix 'Jr' to eliminate those more likely to retrieve the earlier of two players by same name.\n",
    "- Refine database to only those names for whom gamestats could be returned by basketball-reference-scraper API. "
   ]
  },
  {
   "cell_type": "code",
   "execution_count": null,
   "metadata": {},
   "outputs": [],
   "source": [
    "LowExInj = iDB[iDB['Notes'].str.contains(LEinjuries)]\n",
    "LowExInj = LowExInj[~LowExInj['Notes'].str.contains('recovering')]\n",
    "chronic = \"chronic|tendinitis|jumper's|bursitis|periostitis|synovitis|tenosynovitis|inflammation|swollen|swelling|tightness|stiffness|fasciitis|fasciatis|fasciaitis|effusion|sore|soreness|stress|splints\"\n",
    "LowExInj = LowExInj[LowExInj['Notes'].str.contains(chronic)]\n",
    "LowExInj['Date'] = pd.to_datetime(LowExInj['Date'])\n",
    "LowExInj = LowExInj.reset_index(drop = True)"
   ]
  },
  {
   "cell_type": "code",
   "execution_count": null,
   "metadata": {},
   "outputs": [],
   "source": [
    "LowExInj.insert(len(LowExInj.columns), 'Year', pd.DatetimeIndex(LowExInj['Date']).year)\n",
    "LowExInj.insert(len(LowExInj.columns), 'Month', pd.to_datetime(LowExInj['Date']).dt.month_name())\n",
    "LowExInj.insert(len(LowExInj.columns), 'Day', pd.DatetimeIndex(LowExInj['Date']).day)"
   ]
  },
  {
   "cell_type": "code",
   "execution_count": null,
   "metadata": {},
   "outputs": [],
   "source": [
    "LowExInj.to_csv('ChronicLEInjuries_WithDates.csv')"
   ]
  },
  {
   "cell_type": "code",
   "execution_count": null,
   "metadata": {},
   "outputs": [],
   "source": [
    "DateInj = pd.DataFrame()\n",
    "\n",
    "for k in range(2000, 2022):\n",
    "\n",
    "    regsched = get_schedule(k, playoffs = False)\n",
    "    regsched['DATE'] = pd.to_datetime(regsched['DATE'])\n",
    "    regstart = regsched['DATE'].iloc[0]\n",
    "    regend = regsched['DATE'].iloc[-1]\n",
    "\n",
    "    injData = LowExInj[(LowExInj['Date'] >= regstart) & (LowExInj['Date'] <= regend)]\n",
    "    DateInj = DateInj.append(injData)\n",
    "    \n",
    "DateInj.reset_index(drop = True)"
   ]
  },
  {
   "cell_type": "code",
   "execution_count": null,
   "metadata": {},
   "outputs": [],
   "source": [
    "DateInj.to_csv('ChronicLE_RegSeason.csv', index = False)"
   ]
  },
  {
   "cell_type": "code",
   "execution_count": null,
   "metadata": {},
   "outputs": [],
   "source": [
    "Data = pd.read_csv('ChronicLE_RegSeason.csv')\n",
    "Data = Data[~Data['Relinquished'].str.contains('Jr.')]\n",
    "Data.to_csv('ProjectData.csv', index = False)"
   ]
  },
  {
   "cell_type": "code",
   "execution_count": null,
   "metadata": {},
   "outputs": [],
   "source": [
    "Data = pd.read_csv('ProjectData.csv')"
   ]
  },
  {
   "cell_type": "code",
   "execution_count": null,
   "metadata": {},
   "outputs": [],
   "source": [
    "searchable = []\n",
    "\n",
    "for i in range(len(Data) + 1):\n",
    "    \n",
    "    name = Data['Relinquished'].iloc[i]\n",
    "    \n",
    "    try: \n",
    "        \n",
    "        stats = get_stats(name, stat_type = 'PER_GAME')\n",
    "        \n",
    "        if stats.empty == False:\n",
    "        \n",
    "            searchable.append(i)\n",
    "        \n",
    "    except:\n",
    "        \n",
    "        print(i, 'error')"
   ]
  },
  {
   "cell_type": "code",
   "execution_count": null,
   "metadata": {},
   "outputs": [],
   "source": [
    "Data = Data.iloc[searchable]\n",
    "Data = Data.reset_index(drop = True)"
   ]
  },
  {
   "cell_type": "code",
   "execution_count": null,
   "metadata": {},
   "outputs": [],
   "source": [
    "Data.to_csv('ProjectDataSearchable.csv', index = False)"
   ]
  },
  {
   "cell_type": "markdown",
   "metadata": {},
   "source": [
    "# FINAL STAGE OF DATABASE CLEANING BEFORE ACQUIRING PREDICTORS"
   ]
  },
  {
   "cell_type": "markdown",
   "metadata": {},
   "source": [
    "- Eliminate all records occurring after the COVID-19 shutdown in March of 2020. \n",
    "- Associate the correct season (e.g., assign 2020 as 'Season' to an injury occuring during late 2019) to each record.\n",
    "- Generate a team dictionary to switch full team names to appropriate abbreviations for compatibility with basketball-reference\n",
    "- Save data to new dataframe"
   ]
  },
  {
   "cell_type": "code",
   "execution_count": null,
   "metadata": {},
   "outputs": [],
   "source": [
    "Data = pd.read_csv('ProjectDataSearchable.csv')\n",
    "Data['Date'] = pd.to_datetime(Data['Date'])\n",
    "Data = Data[Data['Date'] <= '2020-03-11']"
   ]
  },
  {
   "cell_type": "code",
   "execution_count": null,
   "metadata": {},
   "outputs": [],
   "source": [
    "winter = 'October | November | December'\n",
    "spring = 'January | February | March | April'\n",
    "\n",
    "Data['Season'] = ''\n",
    "\n",
    "for m in range(0, len(Data)):\n",
    "    \n",
    "    if Data['Month'].iloc[m] in winter:\n",
    "        \n",
    "        Data['Season'].iloc[m] = Data['Date'].iloc[m].year + 1\n",
    "        \n",
    "    else:\n",
    "        \n",
    "        Data['Season'].iloc[m] = Data['Date'].iloc[m].year"
   ]
  },
  {
   "cell_type": "code",
   "execution_count": null,
   "metadata": {},
   "outputs": [],
   "source": [
    "teamdict = {'Lakers' : 'LAL', 'Warriors' : 'GSW', 'Nuggets' : 'DEN', 'Raptors' : 'TOR', 'Wizards' : 'WAS', 'Magic' : 'ORL',\n",
    "        'Pistons' : 'DET', 'Sonics' : 'SEA', 'Bulls' : 'CHI', 'Suns' : 'PHO', '76ers' : 'PHI', 'Blazers' : 'POR', \n",
    "        'Nets' : 'BRK', 'Heat' : 'MIA', 'Celtics' : 'BOS', 'Bucks' : 'MIL', 'Cavaliers' : 'CLE', 'Spurs' : 'SAS',\n",
    "        'Knicks' : 'NYK', 'Kings' : 'SAC', 'Timberwolves' : 'MIN', 'Pacers' : 'IND', 'Rockets' : 'HOU', 'Jazz' : 'UTA',\n",
    "        'Clippers' : 'LAC', 'Mavericks' : 'DAL', 'Hawks' : 'ATL', 'Bobcats' : 'CHA', 'Thunder' : 'OKC', 'Pelicans' : 'NOP'}\n",
    "\n",
    "Data = Data.replace({'Team' : teamdict})\n",
    "\n",
    "for n in range(0, len(Data)):\n",
    "    \n",
    "    if Data['Team'].iloc[n] == 'Hornets':\n",
    "        \n",
    "        if Data['Year'].iloc[n] <= 2004:\n",
    "            \n",
    "            Data['Team'].iloc[n] = 'CHH'\n",
    "            \n",
    "        else:\n",
    "            \n",
    "            Data['Team'].iloc[n] = 'CHO'\n",
    "\n",
    "for p in range(0, len(Data)):\n",
    "    \n",
    "    if Data['Team'].iloc[p] == 'Grizzlies':\n",
    "        \n",
    "        if Data['Year'].iloc[p] <= 2001:\n",
    "            \n",
    "            Data['Team'].iloc[p] = 'VAN'\n",
    "            \n",
    "        else:\n",
    "            \n",
    "            Data['Team'].iloc[p] = 'MEM'"
   ]
  },
  {
   "cell_type": "code",
   "execution_count": null,
   "metadata": {},
   "outputs": [],
   "source": [
    "Data.to_csv('ProjectDataSeasonsTeams.csv', index = False)"
   ]
  },
  {
   "cell_type": "markdown",
   "metadata": {},
   "source": [
    "# CONSTRUCT AN 'INJURED GROUP' DATABASE WITH PREDICTORS"
   ]
  },
  {
   "cell_type": "markdown",
   "metadata": {},
   "source": [
    "- Create new dataframe with headers associated with all relevant variables for retrieval of statistics and predictors.\n",
    "- Make calls to basketball-reference-scraper API to retrieve pertinent roster, schedule, and gamelog variables. \n",
    "- Save new dataframe to new file. "
   ]
  },
  {
   "cell_type": "code",
   "execution_count": null,
   "metadata": {
    "scrolled": true
   },
   "outputs": [],
   "source": [
    "Data = pd.read_csv('ProjectDataSeasonsTeams.csv')\n",
    "Data['Date'] = pd.to_datetime(Data['Date'])\n",
    "Data"
   ]
  },
  {
   "cell_type": "code",
   "execution_count": null,
   "metadata": {
    "scrolled": true
   },
   "outputs": [],
   "source": [
    "start = dt.now()\n",
    "\n",
    "colNames = ['Season', 'Year', 'Month', 'Day', 'Team', 'Name', 'Age', 'Height', 'Weight', 'Position', 'Experience', 'AVGmins', \n",
    "            'Days', 'Games', 'B2Bs', 'GameDensity', 'OffDays', 'OffDayRatio', 'HomeGames', 'HomeDensity', 'AwayGames', \n",
    "            'AwayDensity', 'PreInjAVGmins', 'HomeMinShare', 'AWayMinShare', 'GamesAboveAVGminShare', 'PreInjMinDiff', 'Injury', 'Class']\n",
    "\n",
    "fullData = pd.DataFrame(columns = colNames)\n",
    "\n",
    "for w in range(0, len(Data)):\n",
    "    \n",
    "    try:\n",
    "    \n",
    "        outcome = 1\n",
    "        year = Data['Year'].iloc[w]\n",
    "        month = Data['Month'].iloc[w]\n",
    "        day = Data['Day'].iloc[w]\n",
    "        inj = Data['Notes'].iloc[w]\n",
    "        \n",
    "        season = Data['Season'].iloc[w]\n",
    "        name = Data['Relinquished'].iloc[w]\n",
    "        date = Data['Date'].iloc[w].date()\n",
    "        prev = date - td(days = 21)\n",
    "\n",
    "        stats = get_stats(name, stat_type = 'PER_GAME')\n",
    "\n",
    "        avgs = stats[stats['SEASON'] == str(season - 1) + '-' + str(season)[-2:]]\n",
    "        team = avgs['TEAM'].iloc[-1]\n",
    "        age = avgs['AGE'].iloc[-1]\n",
    "        pos = avgs['POS'].iloc[-1]\n",
    "        mins = avgs['MP'].iloc[-1]\n",
    "        \n",
    "        logs = get_game_logs(name, str(prev), str(date))\n",
    "        minutes = logs['MP'].str.split(':', expand = True).apply(pd.to_numeric)\n",
    "        minutes['time'] = round(minutes[0] + minutes[1] / 60, 4)\n",
    "        preinjmins = round(minutes['time'].mean(), 4)\n",
    "        preinjmindiff = round(preinjmins - mins, 4)\n",
    "        \n",
    "        totalMins = minutes['time'].sum()\n",
    "        homemin = logs.index[logs['HOME/AWAY'] =='HOME']\n",
    "        awaymin = logs.index[logs['HOME/AWAY'] =='AWAY']\n",
    "        minsHome = round(minutes.loc[homemin]['time'].sum() / totalMins, 4)\n",
    "        minsAway = round(minutes.loc[awaymin]['time'].sum() / totalMins, 4)\n",
    "\n",
    "        rost = get_roster(team, season)\n",
    "        info = rost[rost['PLAYER'] == name]\n",
    "\n",
    "        height = info['HEIGHT'].item()\n",
    "        height = int(height.split('-')[0]) * 12 + int(height.split('-')[1])\n",
    "        weight = info['WEIGHT'].item()\n",
    "        yrsnba = info['EXPERIENCE'].item()\n",
    "\n",
    "        schedule = get_schedule(season)\n",
    "\n",
    "        teamFinder = {'LAL' : 'Los Angeles Lakers', 'GSW' : 'Golden State Warriors', 'DEN' : 'Denver Nuggets', 'NOH' : 'New Orleans Hornets',\n",
    "                      'TOR' : 'Toronto Raptors', 'WAS' : 'Washington Wizards', 'ORL' : 'Orlando Magic', 'DET' : 'Detroit Pistons', \n",
    "                      'SEA' : 'Seattle SuperSonics', 'CHI' : 'Chicago Bulls', 'PHO' : 'Phoenix Suns', 'PHI' : 'Philadelphia 76ers', \n",
    "                      'VAN' : 'Vancouver Grizzlies', 'POR' : 'Portland Trailblazers', 'BRK' : 'Brooklyn Nets', 'MIA' : 'Miami Heat', \n",
    "                      'BOS' : 'Boston Celtics', 'CHH' : 'Charlotte Hornets', 'MIL' : 'Milwaukee Bucks', 'CLE' : 'Cleveland Cavaliers', \n",
    "                      'SAS' : 'San Antonio Spurs', 'NYK' : 'New York Knicks', 'SAC' : 'Sacramento Kings', 'MIN' : 'Minnesota Timberwolves', \n",
    "                      'IND' : 'Indiana Pacers', 'HOU' : 'Houston Rockets', 'UTA' : 'Utah Jazz', 'LAC' : 'Los Angeles Clippers', \n",
    "                      'DAL' : 'Dallas Mavericks', 'MEM' : 'Memphis Grizzlies', 'ATL' : 'Atlanta Hawks', 'CHA' : 'Charlotte Bobcats', \n",
    "                      'CHO' : 'Charlotte Hornets','OKC' : 'Oklahoma City Thunder', 'NOP' : 'New Orleans Pelicans', 'NJN' : 'New Jersey Nets',\n",
    "                     'NOK' : 'New Orleans/Oklahoma City Hornets'}\n",
    "\n",
    "        sched = schedule[schedule.isin([teamFinder[team]]).any(axis=1)]\n",
    "        pregames = sched[sched['DATE'].between(prev, date)]\n",
    "        numgames = len(pregames)\n",
    "\n",
    "        days = (pregames['DATE'].iloc[-1].date() - pregames['DATE'].iloc[0].date()).days\n",
    "        \n",
    "        aboveavgmins = round(sum(minutes['time'] > mins) / len(pregames), 4)\n",
    "\n",
    "        offdays = days - len(pregames)\n",
    "        offdaydensity = round(offdays / days, 4)\n",
    "        density = round(len(pregames) / days, 4)\n",
    "        homegames = len(pregames[pregames['HOME'] == teamFinder[team]])\n",
    "        homedensity = round(len(pregames[pregames['HOME'] == teamFinder[team]]) / days, 4)\n",
    "        awaygames = len(pregames[pregames['VISITOR'] == teamFinder[team]])\n",
    "        awaydensity = round(len(pregames[pregames['VISITOR'] == teamFinder[team]]) / days, 4)\n",
    "        \n",
    "        pregames['B2B'] = ''\n",
    "\n",
    "        for q in range(0, len(pregames) -1):\n",
    "    \n",
    "            if pregames['DATE'].iloc[q + 1].date() - pregames['DATE'].iloc[q].date() < td(days = 2):\n",
    "        \n",
    "                pregames['B2B'].iloc[q] = 1\n",
    "                pregames['B2B'].iloc[q + 1] = 1\n",
    "            \n",
    "            if len(pregames[pregames['B2B'] == 1]) / 2 >= 1:\n",
    "                \n",
    "                numb2b = len(pregames[pregames['B2B'] == 1]) / 2\n",
    "                \n",
    "            else:\n",
    "                \n",
    "                numb2b = 0\n",
    "\n",
    "        row = [season, year, month, day, team, name, age, height, weight, pos, yrsnba, mins, days, numgames, numb2b, density, \n",
    "               offdays, offdaydensity, homegames, homedensity, awaygames, awaydensity, preinjmins, \n",
    "               minsHome, minsAway, aboveavgmins, preinjmindiff, inj, outcome]\n",
    "        \n",
    "        fullData.loc[len(fullData)] = row\n",
    "\n",
    "    except (TypeError, KeyError, IndexError, AttributeError, ValueError, ZeroDivisionError): w += 1\n",
    "        \n",
    "print('Produced ', len(fullData), ' rows of data for your project in ', dt.now() - start, ' h:mm:ss.')\n",
    "fullData"
   ]
  },
  {
   "cell_type": "code",
   "execution_count": null,
   "metadata": {},
   "outputs": [],
   "source": [
    "fullData.to_csv('InjuredGroup.csv', index = False)"
   ]
  },
  {
   "cell_type": "markdown",
   "metadata": {},
   "source": [
    "# EXECUTE SAME PROCEDURES TO GENERATE CONTROL GROUP"
   ]
  },
  {
   "cell_type": "markdown",
   "metadata": {},
   "source": [
    "- For up to 2000 iterations, match injured records to a random selection from player-team combination of same season.\n",
    "- Exclude retreived player name if they appear in the injured database\n",
    "- Save new file as randomized control group. "
   ]
  },
  {
   "cell_type": "code",
   "execution_count": null,
   "metadata": {},
   "outputs": [],
   "source": [
    "iDB = pd.read_csv('InjuryDatabaseRaw99-21_NoAcquired.csv')\n",
    "Data = pd.read_csv('InjuredGroup.csv')\n",
    "Data"
   ]
  },
  {
   "cell_type": "code",
   "execution_count": null,
   "metadata": {},
   "outputs": [],
   "source": [
    "start = dt.now()\n",
    "\n",
    "colNames = ['Season', 'Year', 'Month', 'Day', 'Team', 'Name', 'Age', 'Height', 'Weight', 'Position', 'Experience', 'AVGmins', \n",
    "            'Days', 'Games', 'B2Bs', 'GameDensity', 'OffDays', 'OffDayRatio', 'HomeGames', 'HomeDensity', 'AwayGames', \n",
    "            'AwayDensity', 'PreInjAVGmins', 'HomeMinShare', 'AWayMinShare', 'GamesAboveAVGminShare', 'PreInjMinDiff', 'Injury', 'Class']\n",
    "\n",
    "fullData = pd.DataFrame(columns = colNames)\n",
    "\n",
    "\n",
    "for w in range(0, 2000):\n",
    "    \n",
    "    j = rd.randint(0, len(Data) -1)\n",
    "\n",
    "    again = 1\n",
    "\n",
    "    while again == 1:\n",
    "\n",
    "        season = Data['Season'].iloc[j]\n",
    "        conopt = Data[Data['Season'] == season]\n",
    "\n",
    "        team = conopt['Team'].iloc[rd.randint(0, len(conopt['Team']) -1 )]\n",
    "        roster = get_roster(str(team), season)\n",
    "        player = str((roster['PLAYER'].iloc[rd.randint(0,len(roster['PLAYER']) -1 )]))\n",
    "\n",
    "        if iDB['Relinquished'].str.contains(player).any():\n",
    "\n",
    "            again = 1\n",
    "\n",
    "        else:\n",
    "\n",
    "            again = 0\n",
    "                \n",
    "        if fullData['Name'].str.contains(player).any():\n",
    "\n",
    "            again = 1\n",
    "\n",
    "        else:\n",
    "\n",
    "            again = 0\n",
    "\n",
    "    try:\n",
    "\n",
    "        outcome = 0\n",
    "        inj = ''\n",
    "        stats = get_stats(player, stat_type = 'PER_GAME')\n",
    "        avgs = stats[stats['SEASON'] == str(season - 1) + '-' + str(season)[-2:]]\n",
    "        team = avgs['TEAM'].iloc[-1]\n",
    "        age = avgs['AGE'].iloc[-1]\n",
    "        pos = avgs['POS'].iloc[-1]\n",
    "        mins = avgs['MP'].iloc[-1].astype(int)\n",
    "\n",
    "        schedule = get_schedule(season)\n",
    "\n",
    "        teamFinder = {'LAL' : 'Los Angeles Lakers', 'GSW' : 'Golden State Warriors', 'DEN' : 'Denver Nuggets', 'NOH' : 'New Orleans Hornets',\n",
    "                      'TOR' : 'Toronto Raptors', 'WAS' : 'Washington Wizards', 'ORL' : 'Orlando Magic', 'DET' : 'Detroit Pistons', \n",
    "                      'SEA' : 'Seattle SuperSonics', 'CHI' : 'Chicago Bulls', 'PHO' : 'Phoenix Suns', 'PHI' : 'Philadelphia 76ers', \n",
    "                      'VAN' : 'Vancouver Grizzlies', 'POR' : 'Portland Trailblazers', 'BRK' : 'Brooklyn Nets', 'MIA' : 'Miami Heat', \n",
    "                      'BOS' : 'Boston Celtics', 'CHH' : 'Charlotte Hornets', 'MIL' : 'Milwaukee Bucks', 'CLE' : 'Cleveland Cavaliers', \n",
    "                      'SAS' : 'San Antonio Spurs', 'NYK' : 'New York Knicks', 'SAC' : 'Sacramento Kings', 'MIN' : 'Minnesota Timberwolves', \n",
    "                      'IND' : 'Indiana Pacers', 'HOU' : 'Houston Rockets', 'UTA' : 'Utah Jazz', 'LAC' : 'Los Angeles Clippers', \n",
    "                      'DAL' : 'Dallas Mavericks', 'MEM' : 'Memphis Grizzlies', 'ATL' : 'Atlanta Hawks', 'CHA' : 'Charlotte Bobcats', \n",
    "                      'CHO' : 'Charlotte Hornets','OKC' : 'Oklahoma City Thunder', 'NOP' : 'New Orleans Pelicans', 'NJN' : 'New Jersey Nets',\n",
    "                      'NOK' : 'New Orleans/Oklahoma City Hornets'}\n",
    "\n",
    "        sched = schedule[schedule.isin([teamFinder[team]]).any(axis=1)]\n",
    "\n",
    "        date = sched['DATE'].iloc[rd.randint(0, len(sched) -1)].date()\n",
    "        year = date.year\n",
    "        month = date.strftime(\"%B\")\n",
    "        day = date.day\n",
    "        prev = date - td(days = 21)\n",
    "\n",
    "        pregames = sched[sched['DATE'].between(prev, date)]\n",
    "        numgames = len(pregames)\n",
    "\n",
    "        logs = get_game_logs(player, str(prev), str(date))\n",
    "        minutes = logs['MP'].str.split(':', expand = True).apply(pd.to_numeric)\n",
    "        minutes['time'] = round(minutes[0] + minutes[1] / 60, 4)\n",
    "        preinjmins = round(minutes['time'].mean(), 4)\n",
    "        preinjmindiff = round(preinjmins - mins, 4)\n",
    "\n",
    "        totalMins = minutes['time'].sum()\n",
    "        homemin = logs.index[logs['HOME/AWAY'] =='HOME']\n",
    "        awaymin = logs.index[logs['HOME/AWAY'] =='AWAY']\n",
    "        minsHome = round(minutes.loc[homemin]['time'].sum() / totalMins, 4)\n",
    "        minsAway = round(minutes.loc[awaymin]['time'].sum() / totalMins, 4)\n",
    "\n",
    "        info = roster[roster['PLAYER'] == player]\n",
    "\n",
    "        height = info['HEIGHT'].item()\n",
    "        height = int(height.split('-')[0]) * 12 + int(height.split('-')[1])\n",
    "        weight = info['WEIGHT'].item()\n",
    "        yrsnba = info['EXPERIENCE'].item()\n",
    "\n",
    "        days = (pregames['DATE'].iloc[-1].date() - pregames['DATE'].iloc[0].date()).days\n",
    "\n",
    "        aboveavgmins = round(sum(minutes['time'] > mins) / len(pregames), 4)\n",
    "\n",
    "        offdays = days - len(pregames)\n",
    "        offdaydensity = round(offdays / days, 4)\n",
    "        density = round(len(pregames) / days, 4)\n",
    "        homegames = len(pregames[pregames['HOME'] == teamFinder[team]])\n",
    "        homedensity = round(len(pregames[pregames['HOME'] == teamFinder[team]]) / days, 4)\n",
    "        awaygames = len(pregames[pregames['VISITOR'] == teamFinder[team]])\n",
    "        awaydensity = round(len(pregames[pregames['VISITOR'] == teamFinder[team]]) / days, 4)\n",
    "\n",
    "        pregames['B2B'] = ''\n",
    "\n",
    "        for q in range(0, len(pregames) -1):\n",
    "\n",
    "            if pregames['DATE'].iloc[q + 1].date() - pregames['DATE'].iloc[q].date() < td(days = 2):\n",
    "\n",
    "                pregames['B2B'].iloc[q] = 1\n",
    "                pregames['B2B'].iloc[q + 1] = 1\n",
    "\n",
    "            if len(pregames[pregames['B2B'] == 1]) / 2 >= 1:\n",
    "\n",
    "                numb2b = len(pregames[pregames['B2B'] == 1]) / 2\n",
    "\n",
    "            else:\n",
    "\n",
    "                numb2b = 0\n",
    "\n",
    "        row = [season, year, month, day, team, player, age, height, weight, pos, yrsnba, mins, days, numgames, numb2b, density, \n",
    "        offdays, offdaydensity, homegames, homedensity, awaygames, awaydensity, preinjmins, \n",
    "        minsHome, minsAway, aboveavgmins, preinjmindiff, inj, outcome]\n",
    "\n",
    "        fullData.loc[len(fullData)] = row\n",
    "\n",
    "    except(TypeError, KeyError, IndexError, AttributeError, ValueError, ZeroDivisionError): j += 1\n",
    "\n",
    "\n",
    "            \n",
    "print('Produced ', len(fullData), ' rows of data for your project in ', dt.now() - start, ' h:mm:ss.')\n",
    "fullData.to_csv('RandomizedControlGroup.csv')\n",
    "fullData"
   ]
  }
 ],
 "metadata": {
  "kernelspec": {
   "display_name": "Python 3",
   "language": "python",
   "name": "python3"
  },
  "language_info": {
   "codemirror_mode": {
    "name": "ipython",
    "version": 3
   },
   "file_extension": ".py",
   "mimetype": "text/x-python",
   "name": "python",
   "nbconvert_exporter": "python",
   "pygments_lexer": "ipython3",
   "version": "3.8.5"
  }
 },
 "nbformat": 4,
 "nbformat_minor": 4
}
